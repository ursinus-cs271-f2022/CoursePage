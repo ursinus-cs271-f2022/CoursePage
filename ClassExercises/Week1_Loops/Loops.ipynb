{
 "cells": [
  {
   "cell_type": "markdown",
   "id": "82ca0fbd",
   "metadata": {},
   "source": [
    "Python has a bunch of different ways of doing loops that come in handy at different times.  \n",
    "\n",
    "## While Loop\n",
    "Let's start with the most basic: the while loop.  This is quite like you'd be used to in other languages; you just have a boolean expression that keeps the loop going if it evaluates to True.  For example, if we wanted to loop until we found a number that was divisible by both 3 and 7, we'd write the following loop:\n"
   ]
  },
  {
   "cell_type": "code",
   "execution_count": 1,
   "id": "65da4032",
   "metadata": {},
   "outputs": [
    {
     "name": "stdout",
     "output_type": "stream",
     "text": [
      "21\n"
     ]
    }
   ],
   "source": [
    "x = 1\n",
    "while x%3 != 0 or x%7 != 0:\n",
    "    x += 1\n",
    "print(x)"
   ]
  },
  {
   "cell_type": "markdown",
   "id": "4d1410ac",
   "metadata": {},
   "source": [
    "Of course, the while loop can be used for anything.  So we can use it in a scenario where we want to loop up to a particular range, even though a for loop is technically better than that.  For example, an equivalent to the C++ or Java loop\n",
    "\n",
    "<code>for (int i = 10; i < 100; i+= 2) { </code>\n",
    "\n",
    "could be written as"
   ]
  },
  {
   "cell_type": "code",
   "execution_count": 2,
   "id": "f6be4abb",
   "metadata": {},
   "outputs": [],
   "source": [
    "i = 10\n",
    "while i < 100:\n",
    "    # Do stuff\n",
    "    i += 2"
   ]
  },
  {
   "cell_type": "markdown",
   "id": "3f590c05",
   "metadata": {},
   "source": [
    "Actually, a quick note here that python unfortunately does not have the var++ notation.  "
   ]
  },
  {
   "cell_type": "code",
   "execution_count": 3,
   "id": "f14779bf",
   "metadata": {},
   "outputs": [
    {
     "ename": "SyntaxError",
     "evalue": "invalid syntax (1074925126.py, line 1)",
     "output_type": "error",
     "traceback": [
      "\u001b[0;36m  File \u001b[0;32m\"/tmp/ipykernel_9831/1074925126.py\"\u001b[0;36m, line \u001b[0;32m1\u001b[0m\n\u001b[0;31m    i++\u001b[0m\n\u001b[0m       ^\u001b[0m\n\u001b[0;31mSyntaxError\u001b[0m\u001b[0;31m:\u001b[0m invalid syntax\n"
     ]
    }
   ],
   "source": [
    "i++"
   ]
  },
  {
   "cell_type": "markdown",
   "id": "7101f6be",
   "metadata": {},
   "source": [
    "So if you wanted to increment by 1, you'd have to say <code>i += 1</code>"
   ]
  },
  {
   "cell_type": "code",
   "execution_count": null,
   "id": "2c24e404",
   "metadata": {},
   "outputs": [],
   "source": [
    "i += 1"
   ]
  },
  {
   "cell_type": "markdown",
   "id": "8519c1cb",
   "metadata": {},
   "source": [
    "If you want to stop here, that's fine!  I don't really care if you do things the most \"pythonic way,\" because this course is more about data structures than python style.  But if you want to make your code more succinct by using more appropriate loops, read on"
   ]
  },
  {
   "cell_type": "markdown",
   "id": "2c6bc40c",
   "metadata": {},
   "source": [
    "## For Loop\n",
    "\n",
    "The for loop in python is more flexible than you're probably used to in other languages, and it may take a moment to really understand what's going on behind the scenes.  But let's start with a scenario that's similar to a for loop that you'd do in Java or C++.  If you had the code\n",
    "\n",
    "<code>for (int x = 174; x < 271; x+=10) {</code>\n",
    "\n",
    "the python equivalent would be"
   ]
  },
  {
   "cell_type": "code",
   "execution_count": 4,
   "id": "ac488213",
   "metadata": {},
   "outputs": [
    {
     "name": "stdout",
     "output_type": "stream",
     "text": [
      "174 184 194 204 214 224 234 244 254 264 "
     ]
    }
   ],
   "source": [
    "for x in range(174, 271, 10):\n",
    "    print(x, end=' ')"
   ]
  },
  {
   "cell_type": "markdown",
   "id": "3d656f75",
   "metadata": {},
   "source": [
    "If you only want to increment by 1 every time, you can omit the third parameter to range"
   ]
  },
  {
   "cell_type": "code",
   "execution_count": 5,
   "id": "1b77a759",
   "metadata": {},
   "outputs": [
    {
     "name": "stdout",
     "output_type": "stream",
     "text": [
      "5 6 7 8 9 "
     ]
    }
   ],
   "source": [
    "for x in range(5, 10):\n",
    "    print(x, end=' ')"
   ]
  },
  {
   "cell_type": "markdown",
   "id": "09dcecd1",
   "metadata": {},
   "source": [
    "And if you want to start at 0, you can omit the first parameter"
   ]
  },
  {
   "cell_type": "code",
   "execution_count": 6,
   "id": "8c47145f",
   "metadata": {},
   "outputs": [
    {
     "name": "stdout",
     "output_type": "stream",
     "text": [
      "0 1 2 3 4 5 6 7 "
     ]
    }
   ],
   "source": [
    "for x in range(8):\n",
    "    print(x, end=' ')"
   ]
  },
  {
   "cell_type": "markdown",
   "id": "601fe3d9",
   "metadata": {},
   "source": [
    "But as it turns out, there's a lot more you can do with for loops in python.  For example, traditional way of looping through an array in Java would look like\n",
    "\n",
    "<code>for (int i = 0; i < arr.length; i++){ </code>\n",
    "    \n",
    "You can certainly follow this pattern in python using"
   ]
  },
  {
   "cell_type": "code",
   "execution_count": 7,
   "id": "8945c4de",
   "metadata": {},
   "outputs": [
    {
     "name": "stdout",
     "output_type": "stream",
     "text": [
      "1 7 4 2 7 1 4 7 7 "
     ]
    }
   ],
   "source": [
    "arr = [1, 7, 4, 2, 7, 1, 4, 7, 7]\n",
    "for i in range(len(arr)):\n",
    "    print(arr[i], end=' ')"
   ]
  },
  {
   "cell_type": "markdown",
   "id": "df2a938e",
   "metadata": {},
   "source": [
    "But notice how we only ever use the variable <b>i</b> to index the array, and we're going through the entire array here.  A more \"pythonic\" way to do this is with a for loop that doesn't store an index directly, but which simply loops through the elements in sequence:"
   ]
  },
  {
   "cell_type": "code",
   "execution_count": 8,
   "id": "b525608a",
   "metadata": {},
   "outputs": [
    {
     "name": "stdout",
     "output_type": "stream",
     "text": [
      "1 7 4 2 7 1 4 7 7 "
     ]
    }
   ],
   "source": [
    "for x in arr:\n",
    "    print(x, end=' ')"
   ]
  },
  {
   "cell_type": "markdown",
   "id": "76ada9a3",
   "metadata": {},
   "source": [
    "So if you don't actually need to use the array index for anything and you just need to loop through some elements of a collection in sequence, this syntax is much more succinct.\n",
    "\n",
    "If you do want to keep track of an index, there's a slightly more \"pythonic\" way of doing it using something called \"enumerate\""
   ]
  },
  {
   "cell_type": "code",
   "execution_count": 9,
   "id": "7210afa2",
   "metadata": {},
   "outputs": [
    {
     "name": "stdout",
     "output_type": "stream",
     "text": [
      "0 1\n",
      "1 7\n",
      "2 4\n",
      "3 2\n",
      "4 7\n",
      "5 1\n",
      "6 4\n",
      "7 7\n",
      "8 7\n"
     ]
    }
   ],
   "source": [
    "for i, x in enumerate(arr):\n",
    "    print(i, x)"
   ]
  },
  {
   "cell_type": "markdown",
   "id": "9a6d1e4d",
   "metadata": {},
   "source": [
    "In this case, the loop actually loops through two variables at once: the index <b>i</b> and the element <b>x</b> of the array.  This saves you the ugly syntax of having to actually index the array, which can make code much cleaner.  But you still know what the index is"
   ]
  },
  {
   "cell_type": "markdown",
   "id": "b1d5d5ad",
   "metadata": {},
   "source": [
    "## Advanced Looping Through Tuples And Zip"
   ]
  },
  {
   "cell_type": "markdown",
   "id": "97b932a9",
   "metadata": {},
   "source": [
    "If you have a list of tuples, you can write a really slick loop to unpack the elements of the tuple directly without having to index anything.  For example"
   ]
  },
  {
   "cell_type": "code",
   "execution_count": 10,
   "id": "59ea229e",
   "metadata": {},
   "outputs": [
    {
     "name": "stdout",
     "output_type": "stream",
     "text": [
      "chris 33\n",
      "celia 32\n",
      "theo 9\n",
      "layla 10\n"
     ]
    }
   ],
   "source": [
    "creatures = [(\"chris\", 33), (\"celia\", 32), (\"theo\", 9), (\"layla\", 10)]\n",
    "for name, age in creatures:\n",
    "    print(name, age)"
   ]
  },
  {
   "cell_type": "markdown",
   "id": "260337dd",
   "metadata": {},
   "source": [
    "If you have two parallel arrays, you can turn them into an array of tuples using the python command <code>zip</code>.  For example"
   ]
  },
  {
   "cell_type": "code",
   "execution_count": 11,
   "id": "49143882",
   "metadata": {},
   "outputs": [
    {
     "name": "stdout",
     "output_type": "stream",
     "text": [
      "[('chris', 33), ('celia', 32), ('theo', 9), ('layla', 10)]\n"
     ]
    }
   ],
   "source": [
    "names = [\"chris\", \"celia\", \"theo\", \"layla\"]\n",
    "ages = [33, 32, 9, 10]\n",
    "print(list(zip(names, ages)))"
   ]
  },
  {
   "cell_type": "markdown",
   "id": "35059595",
   "metadata": {},
   "source": [
    "(Side note: I had to put the <code>list()</code> around the zip because zip actually returns an iterator, which only returns items in sequence when we ask it to)\n",
    "\n",
    "Putting it all together, we can loop through two arrays in parallel with"
   ]
  },
  {
   "cell_type": "code",
   "execution_count": 12,
   "id": "ea199948",
   "metadata": {},
   "outputs": [
    {
     "name": "stdout",
     "output_type": "stream",
     "text": [
      "chris 33\n",
      "celia 32\n",
      "theo 9\n",
      "layla 10\n"
     ]
    }
   ],
   "source": [
    "for name, age in zip(names, ages):\n",
    "    print(name, age)"
   ]
  },
  {
   "cell_type": "markdown",
   "id": "ca895c2f",
   "metadata": {},
   "source": [
    "And if we want to get really fancy and pythonic, we can also use <code>enumerate</code> to keep track of our index as we go"
   ]
  },
  {
   "cell_type": "code",
   "execution_count": 13,
   "id": "b94409f5",
   "metadata": {},
   "outputs": [
    {
     "name": "stdout",
     "output_type": "stream",
     "text": [
      "0 chris 33\n",
      "1 celia 32\n",
      "2 theo 9\n",
      "3 layla 10\n"
     ]
    }
   ],
   "source": [
    "for i, (name, age) in enumerate(zip(names, ages)):\n",
    "    print(i, name, age)"
   ]
  },
  {
   "cell_type": "markdown",
   "id": "54dd7a80",
   "metadata": {},
   "source": [
    "Just a reminder that you can accomplish all of this with more traditional C++/Java-esque approaches:"
   ]
  },
  {
   "cell_type": "code",
   "execution_count": 14,
   "id": "ef55111e",
   "metadata": {},
   "outputs": [
    {
     "name": "stdout",
     "output_type": "stream",
     "text": [
      "0 chris 33\n",
      "1 celia 32\n",
      "2 theo 9\n",
      "3 layla 10\n"
     ]
    }
   ],
   "source": [
    "for i in range(len(names)):\n",
    "    print(i, names[i], ages[i])"
   ]
  },
  {
   "cell_type": "markdown",
   "id": "e127b809",
   "metadata": {},
   "source": [
    "But oftentimes the code ends up looking nicer inside the loop if we don't have to throw array indexing in everywhere"
   ]
  },
  {
   "cell_type": "code",
   "execution_count": null,
   "id": "76a66459",
   "metadata": {},
   "outputs": [],
   "source": []
  }
 ],
 "metadata": {
  "kernelspec": {
   "display_name": "Python 3 (ipykernel)",
   "language": "python",
   "name": "python3"
  },
  "language_info": {
   "codemirror_mode": {
    "name": "ipython",
    "version": 3
   },
   "file_extension": ".py",
   "mimetype": "text/x-python",
   "name": "python",
   "nbconvert_exporter": "python",
   "pygments_lexer": "ipython3",
   "version": "3.9.7"
  }
 },
 "nbformat": 4,
 "nbformat_minor": 5
}
