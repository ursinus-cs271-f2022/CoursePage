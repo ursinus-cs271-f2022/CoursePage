{
 "cells": [
  {
   "cell_type": "markdown",
   "id": "b26dcfa1",
   "metadata": {},
   "source": [
    "Let's discuss a few features of sorting in python.  This is something we will treat as a \"black box\" for now; that is, we'll just use it as a tool given to us without understanding the implementation details.  But later we will go over the details later of how these algorithms work.\n",
    "\n",
    "First, let's create a list of 50 random numbers between 0 and 99 using numpy"
   ]
  },
  {
   "cell_type": "code",
   "execution_count": 1,
   "id": "428218cb",
   "metadata": {},
   "outputs": [
    {
     "name": "stdout",
     "output_type": "stream",
     "text": [
      "[44 47 64 67 67  9 83 21 36 87 70 88 88 12 58 65 39 87 46 88 81 37 25 77\n",
      " 72  9 20 80 69 79 47 64 82 99 88 49 29 19 19 14 39 32 65  9 57 32 31 74\n",
      " 23 35]\n"
     ]
    }
   ],
   "source": [
    "import numpy as np\n",
    "np.random.seed(0)\n",
    "arr = np.random.randint(0, 100, 50)\n",
    "print(arr)"
   ]
  },
  {
   "cell_type": "markdown",
   "id": "ca59580b",
   "metadata": {},
   "source": [
    "Sorting them in python is as simple as saying"
   ]
  },
  {
   "cell_type": "code",
   "execution_count": 2,
   "id": "9f3a2e2f",
   "metadata": {},
   "outputs": [
    {
     "name": "stdout",
     "output_type": "stream",
     "text": [
      "[9, 9, 9, 12, 14, 19, 19, 20, 21, 23, 25, 29, 31, 32, 32, 35, 36, 37, 39, 39, 44, 46, 47, 47, 49, 57, 58, 64, 64, 65, 65, 67, 67, 69, 70, 72, 74, 77, 79, 80, 81, 82, 83, 87, 87, 88, 88, 88, 88, 99]\n"
     ]
    }
   ],
   "source": [
    "arr_sorted = sorted(arr)\n",
    "print(arr_sorted)"
   ]
  },
  {
   "cell_type": "markdown",
   "id": "eb05db7d",
   "metadata": {},
   "source": [
    "So what's the big deal?  Well, things can get a little fancier if we are sorting a list of objects.  For example, suppose we had an object which encapsulated both a string and a number.  To keep things simple, we'll make each name a 3-character string with only the characters \"a\" \"b\" and \"c\".  I'll go ahead and make a random list of such objects now"
   ]
  },
  {
   "cell_type": "code",
   "execution_count": 3,
   "id": "e0abbce4",
   "metadata": {},
   "outputs": [],
   "source": [
    "class NumStr:\n",
    "    def __init__(self):\n",
    "        \"\"\"\n",
    "        Randomly initialize a number and a string\n",
    "        \"\"\"\n",
    "        self.num = np.random.randint(1000)\n",
    "        self.name = \"\".join([[\"a\", \"b\", \"c\"][i] for i in np.random.randint(0, 3, 3)])\n",
    "    \n",
    "    def __str__(self):\n",
    "        \"\"\"\n",
    "        Analagous to Java's toString() function\n",
    "        \"\"\"\n",
    "        return \"{}:{}\".format(self.num, self.name)"
   ]
  },
  {
   "cell_type": "code",
   "execution_count": 4,
   "id": "8f3bbcf7",
   "metadata": {},
   "outputs": [],
   "source": [
    "np.random.seed(0)\n",
    "arr = [NumStr() for i in range(100)]"
   ]
  },
  {
   "cell_type": "markdown",
   "id": "7dfccf4f",
   "metadata": {},
   "source": [
    "For example, here are the first two elements"
   ]
  },
  {
   "cell_type": "code",
   "execution_count": 5,
   "id": "09b7b7a2",
   "metadata": {},
   "outputs": [
    {
     "name": "stdout",
     "output_type": "stream",
     "text": [
      "684:bab 723:bca\n"
     ]
    }
   ],
   "source": [
    "print(arr[0], arr[1])"
   ]
  },
  {
   "cell_type": "markdown",
   "id": "706808fb",
   "metadata": {},
   "source": [
    "But what happens when we try to sort these?"
   ]
  },
  {
   "cell_type": "code",
   "execution_count": 6,
   "id": "8b6171b3",
   "metadata": {},
   "outputs": [
    {
     "ename": "TypeError",
     "evalue": "'<' not supported between instances of 'NumStr' and 'NumStr'",
     "output_type": "error",
     "traceback": [
      "\u001b[0;31m---------------------------------------------------------------------------\u001b[0m",
      "\u001b[0;31mTypeError\u001b[0m                                 Traceback (most recent call last)",
      "\u001b[0;32m/tmp/ipykernel_26238/2712916210.py\u001b[0m in \u001b[0;36m<module>\u001b[0;34m\u001b[0m\n\u001b[0;32m----> 1\u001b[0;31m \u001b[0msorted\u001b[0m\u001b[0;34m(\u001b[0m\u001b[0marr\u001b[0m\u001b[0;34m)\u001b[0m\u001b[0;34m\u001b[0m\u001b[0;34m\u001b[0m\u001b[0m\n\u001b[0m",
      "\u001b[0;31mTypeError\u001b[0m: '<' not supported between instances of 'NumStr' and 'NumStr'"
     ]
    }
   ],
   "source": [
    "sorted(arr)"
   ]
  },
  {
   "cell_type": "markdown",
   "id": "b8953588",
   "metadata": {},
   "source": [
    "Uh oh!  The issue is, we haven't defined how to sort objects of type \"NumStr\".  What we have to do is define a special function to say how to sort.  This function should return something about the object which is comparable (e.g. ints by value or strings in alphabetical order).  Let's define two functions for our object: one that returns the name and one that returns the number"
   ]
  },
  {
   "cell_type": "code",
   "execution_count": 7,
   "id": "fb08c286",
   "metadata": {},
   "outputs": [],
   "source": [
    "def get_name(obj):\n",
    "    return obj.name\n",
    "\n",
    "def get_num(obj):\n",
    "    return obj.num"
   ]
  },
  {
   "cell_type": "markdown",
   "id": "c38cbce5",
   "metadata": {},
   "source": [
    "Now, we can pass along these functions *as parameters* to the <code>sorted</code> function.  For example, let's sort them by number and print out the first 10."
   ]
  },
  {
   "cell_type": "code",
   "execution_count": 8,
   "id": "b35a8fb7",
   "metadata": {
    "scrolled": true
   },
   "outputs": [
    {
     "name": "stdout",
     "output_type": "stream",
     "text": [
      "25:aab\n",
      "32:cac\n",
      "43:aca\n",
      "43:bbb\n",
      "53:aca\n",
      "73:bcc\n",
      "80:cab\n",
      "88:bba\n",
      "98:ccc\n",
      "106:bab\n"
     ]
    }
   ],
   "source": [
    "arr_sorted = sorted(arr, key=get_num)\n",
    "for x in arr_sorted[0:10]:\n",
    "    print(x)"
   ]
  },
  {
   "cell_type": "markdown",
   "id": "0c8011bd",
   "metadata": {},
   "source": [
    "Let's take this result and now sort it by name"
   ]
  },
  {
   "cell_type": "code",
   "execution_count": 9,
   "id": "b96147d8",
   "metadata": {
    "scrolled": true
   },
   "outputs": [
    {
     "name": "stdout",
     "output_type": "stream",
     "text": [
      "347:aaa\n",
      "593:aaa\n",
      "606:aaa\n",
      "964:aaa\n",
      "25:aab\n",
      "128:aab\n",
      "248:aab\n",
      "715:aab\n",
      "777:aab\n",
      "782:aab\n"
     ]
    }
   ],
   "source": [
    "arr_sorted2 = sorted(arr_sorted, key=get_name)\n",
    "for x in arr_sorted2[0:10]:\n",
    "    print(x)"
   ]
  },
  {
   "cell_type": "markdown",
   "id": "9e44f0d8",
   "metadata": {},
   "source": [
    "Sharp eyes will notice that within the ties, each chunk is sorted by number (e.g. for everything with a name aaa, they come out 347, 593, 606, and 964).  This is because python's sorted uses what's known as a <b>stable sort</b>.  We won't immediately need this, but it's a good thing to know and keep in our back pocket"
   ]
  },
  {
   "cell_type": "markdown",
   "id": "c9be6f29",
   "metadata": {},
   "source": [
    "One more thing to mention is that the methods we passed to <code>sorted</code> were incredibly simple.  There's actually a short hand for these types of one line method definitions in python known as an <a href = \"https://www.programiz.com/python-programming/anonymous-function\">anonymous function</a>.  Below is how you could use this to sort by number again"
   ]
  },
  {
   "cell_type": "code",
   "execution_count": 10,
   "id": "8d9c84bb",
   "metadata": {},
   "outputs": [],
   "source": [
    "arr_sorted = sorted(arr, key=lambda x: x.num)"
   ]
  },
  {
   "cell_type": "code",
   "execution_count": null,
   "id": "cdba9bde",
   "metadata": {},
   "outputs": [],
   "source": []
  }
 ],
 "metadata": {
  "kernelspec": {
   "display_name": "Python 3 (ipykernel)",
   "language": "python",
   "name": "python3"
  },
  "language_info": {
   "codemirror_mode": {
    "name": "ipython",
    "version": 3
   },
   "file_extension": ".py",
   "mimetype": "text/x-python",
   "name": "python",
   "nbconvert_exporter": "python",
   "pygments_lexer": "ipython3",
   "version": "3.9.7"
  }
 },
 "nbformat": 4,
 "nbformat_minor": 5
}
